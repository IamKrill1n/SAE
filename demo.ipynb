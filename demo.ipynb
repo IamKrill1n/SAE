{
 "cells": [
  {
   "cell_type": "code",
   "execution_count": 1,
   "id": "bc2bbe63",
   "metadata": {},
   "outputs": [],
   "source": [
    "from visualize import *"
   ]
  },
  {
   "cell_type": "code",
   "execution_count": 2,
   "id": "15ac929d",
   "metadata": {},
   "outputs": [],
   "source": [
    "model_name = \"gpt2-small\"\n",
    "sae_id = \"blocks.7.hook_mlp_out\""
   ]
  },
  {
   "cell_type": "code",
   "execution_count": 2,
   "id": "de33a8a1",
   "metadata": {},
   "outputs": [],
   "source": [
    "model_name = \"tiny-stories-1L-21M\"\n",
    "sae_id = \"sae_ex32\""
   ]
  },
  {
   "cell_type": "code",
   "execution_count": 3,
   "id": "6ecb414d",
   "metadata": {},
   "outputs": [
    {
     "name": "stdout",
     "output_type": "stream",
     "text": [
      "Loaded pretrained model tiny-stories-1L-21M into HookedTransformer\n"
     ]
    }
   ],
   "source": [
    "loaded_model, loaded_sae, loaed_act_store, loaded_proj = load_stuffs(model_name, sae_id)"
   ]
  },
  {
   "cell_type": "code",
   "execution_count": 4,
   "id": "20fc7d55",
   "metadata": {},
   "outputs": [
    {
     "name": "stdout",
     "output_type": "stream",
     "text": [
      "Tokenized prompt:\n",
      "+---------------+----+----+------+-----+---+----+-------+-------+-------+\n",
      "|       0       | 1  | 2  |  3   |  4  | 5 | 6  |   7   |   8   |   9   |\n",
      "+---------------+----+----+------+-----+---+----+-------+-------+-------+\n",
      "| <|endoftext|> | Tu | is | very | sad | . | He | cries | every | night |\n",
      "+---------------+----+----+------+-----+---+----+-------+-------+-------+\n",
      "\n",
      "Analyzing token  cries\n",
      "Latent index:  27821\n"
     ]
    },
    {
     "name": "stderr",
     "output_type": "stream",
     "text": [
      "Computing activations for max activating examples: 100%|██████████| 100/100 [00:39<00:00,  2.52it/s]\n"
     ]
    },
    {
     "data": {
      "text/html": [
       "<pre style=\"white-space:pre;overflow-x:auto;line-height:normal;font-family:Menlo,'DejaVu Sans Mono',consolas,'Courier New',monospace\"><span style=\"font-style: italic\">                                   Max Activating Examples                                   </span>\n",
       "┏━━━━━━━┳━━━━━━━━━━━━━━━━━━━━━━━━━━━━━━━━━━━━━━━━━━━━━━━━━━━━━━━━━━━━━━━━━━━━━━━━━━━━━━━━━━━┓\n",
       "┃<span style=\"font-weight: bold\"> Act   </span>┃<span style=\"font-weight: bold\"> Sequence                                                                          </span>┃\n",
       "┡━━━━━━━╇━━━━━━━━━━━━━━━━━━━━━━━━━━━━━━━━━━━━━━━━━━━━━━━━━━━━━━━━━━━━━━━━━━━━━━━━━━━━━━━━━━━┩\n",
       "│ 8.941 │ \" and bites the rake and Sara's leg. Sara<span style=\"color: #008000; text-decoration-color: #008000; font-weight: bold; text-decoration: underline\"> cries</span> and bleeds. The dog is happy. He\" │\n",
       "├───────┼───────────────────────────────────────────────────────────────────────────────────┤\n",
       "│ 8.094 │ ' tries to kick the door. Nothing works. He<span style=\"color: #008000; text-decoration-color: #008000; font-weight: bold; text-decoration: underline\"> cries</span>. He is stuck. He is hot. He'    │\n",
       "├───────┼───────────────────────────────────────────────────────────────────────────────────┤\n",
       "│ 8.092 │ \" He bites the stick and Ben's hand. Ben<span style=\"color: #008000; text-decoration-color: #008000; font-weight: bold; text-decoration: underline\"> cries</span> and drops the stick.↵↵The dog is\"  │\n",
       "├───────┼───────────────────────────────────────────────────────────────────────────────────┤\n",
       "│ 7.996 │ ' is fun.↵↵Ben is angry. He<span style=\"color: #008000; text-decoration-color: #008000; font-weight: bold; text-decoration: underline\"> cries</span>. He says, \"You are bad, Lily'                   │\n",
       "├───────┼───────────────────────────────────────────────────────────────────────────────────┤\n",
       "│ 7.445 │ ' the sides. She slides down very fast. She<span style=\"color: #008000; text-decoration-color: #008000; font-weight: bold; text-decoration: underline\"> screams</span> with joy.↵↵\"Whee! This'       │\n",
       "└───────┴───────────────────────────────────────────────────────────────────────────────────┘\n",
       "</pre>\n"
      ],
      "text/plain": [
       "\u001b[3m                                   Max Activating Examples                                   \u001b[0m\n",
       "┏━━━━━━━┳━━━━━━━━━━━━━━━━━━━━━━━━━━━━━━━━━━━━━━━━━━━━━━━━━━━━━━━━━━━━━━━━━━━━━━━━━━━━━━━━━━━┓\n",
       "┃\u001b[1m \u001b[0m\u001b[1mAct  \u001b[0m\u001b[1m \u001b[0m┃\u001b[1m \u001b[0m\u001b[1mSequence                                                                         \u001b[0m\u001b[1m \u001b[0m┃\n",
       "┡━━━━━━━╇━━━━━━━━━━━━━━━━━━━━━━━━━━━━━━━━━━━━━━━━━━━━━━━━━━━━━━━━━━━━━━━━━━━━━━━━━━━━━━━━━━━┩\n",
       "│ 8.941 │ \" and bites the rake and Sara's leg. Sara\u001b[1;4;32m cries\u001b[0m and bleeds. The dog is happy. He\" │\n",
       "├───────┼───────────────────────────────────────────────────────────────────────────────────┤\n",
       "│ 8.094 │ ' tries to kick the door. Nothing works. He\u001b[1;4;32m cries\u001b[0m. He is stuck. He is hot. He'    │\n",
       "├───────┼───────────────────────────────────────────────────────────────────────────────────┤\n",
       "│ 8.092 │ \" He bites the stick and Ben's hand. Ben\u001b[1;4;32m cries\u001b[0m and drops the stick.↵↵The dog is\"  │\n",
       "├───────┼───────────────────────────────────────────────────────────────────────────────────┤\n",
       "│ 7.996 │ ' is fun.↵↵Ben is angry. He\u001b[1;4;32m cries\u001b[0m. He says, \"You are bad, Lily'                   │\n",
       "├───────┼───────────────────────────────────────────────────────────────────────────────────┤\n",
       "│ 7.445 │ ' the sides. She slides down very fast. She\u001b[1;4;32m screams\u001b[0m with joy.↵↵\"Whee! This'       │\n",
       "└───────┴───────────────────────────────────────────────────────────────────────────────────┘\n"
      ]
     },
     "metadata": {},
     "output_type": "display_data"
    },
    {
     "name": "stdout",
     "output_type": "stream",
     "text": [
      "Autointerp explanation:   expressions of distress or pain expressed by people or animals\n",
      "\n",
      "┌─────────────────┬─────────┬──────────────┬─────────┐\n",
      "│   Bottom tokens │ Value   │   Top tokens │ Value   │\n",
      "├─────────────────┼─────────┼──────────────┼─────────┤\n",
      "│        'asured' │ -0.127  │          '.' │ +0.134  │\n",
      "│         ' silk' │ -0.126  │       ' out' │ +0.130  │\n",
      "│          'lled' │ -0.125  │    ' louder' │ +0.129  │\n",
      "│         'pered' │ -0.122  │  ' prevents' │ +0.125  │\n",
      "│    ' preferred' │ -0.121  │     ' stops' │ +0.125  │\n",
      "│    ' viewpoint' │ -0.120  │       ' are' │ +0.119  │\n",
      "│       ' vision' │ -0.119  │     ' makes' │ +0.118  │\n",
      "│       ' bounty' │ -0.119  │  ' attracts' │ +0.114  │\n",
      "│     ' Grateful' │ -0.118  │   ' echoing' │ +0.114  │\n",
      "│     ' pointers' │ -0.116  │   ' halfway' │ +0.112  │\n",
      "└─────────────────┴─────────┴──────────────┴─────────┘\n",
      "Latent index:  18980\n"
     ]
    },
    {
     "name": "stderr",
     "output_type": "stream",
     "text": [
      "Computing activations for max activating examples: 100%|██████████| 100/100 [00:38<00:00,  2.63it/s]\n"
     ]
    },
    {
     "data": {
      "text/html": [
       "<pre style=\"white-space:pre;overflow-x:auto;line-height:normal;font-family:Menlo,'DejaVu Sans Mono',consolas,'Courier New',monospace\"><span style=\"font-style: italic\">                                           Max Activating Examples                                            </span>\n",
       "┏━━━━━━━┳━━━━━━━━━━━━━━━━━━━━━━━━━━━━━━━━━━━━━━━━━━━━━━━━━━━━━━━━━━━━━━━━━━━━━━━━━━━━━━━━━━━━━━━━━━━━━━━━━━━━┓\n",
       "┃<span style=\"font-weight: bold\"> Act   </span>┃<span style=\"font-weight: bold\"> Sequence                                                                                           </span>┃\n",
       "┡━━━━━━━╇━━━━━━━━━━━━━━━━━━━━━━━━━━━━━━━━━━━━━━━━━━━━━━━━━━━━━━━━━━━━━━━━━━━━━━━━━━━━━━━━━━━━━━━━━━━━━━━━━━━━┩\n",
       "│ 4.198 │ ' ice cream melted quickly. Timmy was sad and<span style=\"color: #008000; text-decoration-color: #008000; font-weight: bold; text-decoration: underline\"> cried</span> because he wasted the ice cream. His mom came' │\n",
       "├───────┼────────────────────────────────────────────────────────────────────────────────────────────────────┤\n",
       "│ 3.415 │ ' dying. She felt very sad and she started to<span style=\"color: #008000; text-decoration-color: #008000; font-weight: bold; text-decoration: underline\"> cry</span>. ↵↵The little girl tried her best'               │\n",
       "├───────┼────────────────────────────────────────────────────────────────────────────────────────────────────┤\n",
       "│ 3.311 │ ' and now her friends were sad too and started to<span style=\"color: #008000; text-decoration-color: #008000; font-weight: bold; text-decoration: underline\"> weep</span>. They all wanted to help the jellyfish,'    │\n",
       "├───────┼────────────────────────────────────────────────────────────────────────────────────────────────────┤\n",
       "│ 3.272 │ ' kids were very sad. The bad ending made them<span style=\"color: #008000; text-decoration-color: #008000; font-weight: bold; text-decoration: underline\"> cry</span>.&lt;|endoftext|&gt;Once upon a time, in a small'      │\n",
       "├───────┼────────────────────────────────────────────────────────────────────────────────────────────────────┤\n",
       "│ 3.187 │ \".↵↵Timmy's mom was sad and<span style=\"color: #008000; text-decoration-color: #008000; font-weight: bold; text-decoration: underline\"> cried</span> a lot. She wished she had held Timmy\"                            │\n",
       "└───────┴────────────────────────────────────────────────────────────────────────────────────────────────────┘\n",
       "</pre>\n"
      ],
      "text/plain": [
       "\u001b[3m                                           Max Activating Examples                                            \u001b[0m\n",
       "┏━━━━━━━┳━━━━━━━━━━━━━━━━━━━━━━━━━━━━━━━━━━━━━━━━━━━━━━━━━━━━━━━━━━━━━━━━━━━━━━━━━━━━━━━━━━━━━━━━━━━━━━━━━━━━┓\n",
       "┃\u001b[1m \u001b[0m\u001b[1mAct  \u001b[0m\u001b[1m \u001b[0m┃\u001b[1m \u001b[0m\u001b[1mSequence                                                                                          \u001b[0m\u001b[1m \u001b[0m┃\n",
       "┡━━━━━━━╇━━━━━━━━━━━━━━━━━━━━━━━━━━━━━━━━━━━━━━━━━━━━━━━━━━━━━━━━━━━━━━━━━━━━━━━━━━━━━━━━━━━━━━━━━━━━━━━━━━━━┩\n",
       "│ 4.198 │ ' ice cream melted quickly. Timmy was sad and\u001b[1;4;32m cried\u001b[0m because he wasted the ice cream. His mom came' │\n",
       "├───────┼────────────────────────────────────────────────────────────────────────────────────────────────────┤\n",
       "│ 3.415 │ ' dying. She felt very sad and she started to\u001b[1;4;32m cry\u001b[0m. ↵↵The little girl tried her best'               │\n",
       "├───────┼────────────────────────────────────────────────────────────────────────────────────────────────────┤\n",
       "│ 3.311 │ ' and now her friends were sad too and started to\u001b[1;4;32m weep\u001b[0m. They all wanted to help the jellyfish,'    │\n",
       "├───────┼────────────────────────────────────────────────────────────────────────────────────────────────────┤\n",
       "│ 3.272 │ ' kids were very sad. The bad ending made them\u001b[1;4;32m cry\u001b[0m.<|endoftext|>Once upon a time, in a small'      │\n",
       "├───────┼────────────────────────────────────────────────────────────────────────────────────────────────────┤\n",
       "│ 3.187 │ \".↵↵Timmy's mom was sad and\u001b[1;4;32m cried\u001b[0m a lot. She wished she had held Timmy\"                            │\n",
       "└───────┴────────────────────────────────────────────────────────────────────────────────────────────────────┘\n"
      ]
     },
     "metadata": {},
     "output_type": "display_data"
    },
    {
     "name": "stdout",
     "output_type": "stream",
     "text": [
      "Autointerp explanation:   someone expressing sadness or grief\n",
      "\n",
      "┌─────────────────┬─────────┬───────────────┬─────────┐\n",
      "│   Bottom tokens │ Value   │    Top tokens │ Value   │\n",
      "├─────────────────┼─────────┼───────────────┼─────────┤\n",
      "│           'End' │ -0.067  │   ' bitterly' │ +0.063  │\n",
      "│         'Value' │ -0.060  │           '.' │ +0.060  │\n",
      "│         ' cycl' │ -0.055  │     ' loudly' │ +0.059  │\n",
      "│      ' Winning' │ -0.051  │     ' louder' │ +0.058  │\n",
      "│    ' namespace' │ -0.048  │     ' harder' │ +0.056  │\n",
      "│           '794' │ -0.048  │      ' until' │ +0.056  │\n",
      "│      ' wrestle' │ -0.048  │    ' herself' │ +0.054  │\n",
      "│   ' constraint' │ -0.048  │ ' uncontroll' │ +0.054  │\n",
      "│          'isol' │ -0.048  │    ' himself' │ +0.052  │\n",
      "│       ' Garner' │ -0.048  │      ' tears' │ +0.052  │\n",
      "└─────────────────┴─────────┴───────────────┴─────────┘\n",
      "Latent index:  23014\n"
     ]
    },
    {
     "name": "stderr",
     "output_type": "stream",
     "text": [
      "Computing activations for max activating examples: 100%|██████████| 100/100 [00:34<00:00,  2.89it/s]\n"
     ]
    },
    {
     "data": {
      "text/html": [
       "<pre style=\"white-space:pre;overflow-x:auto;line-height:normal;font-family:Menlo,'DejaVu Sans Mono',consolas,'Courier New',monospace\"><span style=\"font-style: italic\">                                            Max Activating Examples                                            </span>\n",
       "┏━━━━━━━┳━━━━━━━━━━━━━━━━━━━━━━━━━━━━━━━━━━━━━━━━━━━━━━━━━━━━━━━━━━━━━━━━━━━━━━━━━━━━━━━━━━━━━━━━━━━━━━━━━━━━━┓\n",
       "┃<span style=\"font-weight: bold\"> Act   </span>┃<span style=\"font-weight: bold\"> Sequence                                                                                            </span>┃\n",
       "┡━━━━━━━╇━━━━━━━━━━━━━━━━━━━━━━━━━━━━━━━━━━━━━━━━━━━━━━━━━━━━━━━━━━━━━━━━━━━━━━━━━━━━━━━━━━━━━━━━━━━━━━━━━━━━━┩\n",
       "│ 9.764 │ 'John was very sad. He went home alone and<span style=\"color: #008000; text-decoration-color: #008000; font-weight: bold; text-decoration: underline\"> cried</span>. He wanted the sunshine to attach to him and'      │\n",
       "├───────┼─────────────────────────────────────────────────────────────────────────────────────────────────────┤\n",
       "│ 8.055 │ \" it was too expensive. Lily was sad and she<span style=\"color: #008000; text-decoration-color: #008000; font-weight: bold; text-decoration: underline\"> cried</span>. Her mom told her that sometimes we can't\"       │\n",
       "├───────┼─────────────────────────────────────────────────────────────────────────────────────────────────────┤\n",
       "│ 5.516 │ ' the white chain. They were so sad. They<span style=\"color: #008000; text-decoration-color: #008000; font-weight: bold; text-decoration: underline\"> cried</span> until the sun went down. ↵↵The'                     │\n",
       "├───────┼─────────────────────────────────────────────────────────────────────────────────────────────────────┤\n",
       "│ 5.268 │ ' He could not find it anywhere.↵↵Tim<span style=\"color: #008000; text-decoration-color: #008000; font-weight: bold; text-decoration: underline\"> cried</span>. His mom came and said, \"I told'                        │\n",
       "├───────┼─────────────────────────────────────────────────────────────────────────────────────────────────────┤\n",
       "│ 5.117 │ ' but it was theirs. They hugged each other and<span style=\"color: #008000; text-decoration-color: #008000; font-weight: bold; text-decoration: underline\"> cried</span>. They wished they had never seen the big and' │\n",
       "└───────┴─────────────────────────────────────────────────────────────────────────────────────────────────────┘\n",
       "</pre>\n"
      ],
      "text/plain": [
       "\u001b[3m                                            Max Activating Examples                                            \u001b[0m\n",
       "┏━━━━━━━┳━━━━━━━━━━━━━━━━━━━━━━━━━━━━━━━━━━━━━━━━━━━━━━━━━━━━━━━━━━━━━━━━━━━━━━━━━━━━━━━━━━━━━━━━━━━━━━━━━━━━━┓\n",
       "┃\u001b[1m \u001b[0m\u001b[1mAct  \u001b[0m\u001b[1m \u001b[0m┃\u001b[1m \u001b[0m\u001b[1mSequence                                                                                           \u001b[0m\u001b[1m \u001b[0m┃\n",
       "┡━━━━━━━╇━━━━━━━━━━━━━━━━━━━━━━━━━━━━━━━━━━━━━━━━━━━━━━━━━━━━━━━━━━━━━━━━━━━━━━━━━━━━━━━━━━━━━━━━━━━━━━━━━━━━━┩\n",
       "│ 9.764 │ 'John was very sad. He went home alone and\u001b[1;4;32m cried\u001b[0m. He wanted the sunshine to attach to him and'      │\n",
       "├───────┼─────────────────────────────────────────────────────────────────────────────────────────────────────┤\n",
       "│ 8.055 │ \" it was too expensive. Lily was sad and she\u001b[1;4;32m cried\u001b[0m. Her mom told her that sometimes we can't\"       │\n",
       "├───────┼─────────────────────────────────────────────────────────────────────────────────────────────────────┤\n",
       "│ 5.516 │ ' the white chain. They were so sad. They\u001b[1;4;32m cried\u001b[0m until the sun went down. ↵↵The'                     │\n",
       "├───────┼─────────────────────────────────────────────────────────────────────────────────────────────────────┤\n",
       "│ 5.268 │ ' He could not find it anywhere.↵↵Tim\u001b[1;4;32m cried\u001b[0m. His mom came and said, \"I told'                        │\n",
       "├───────┼─────────────────────────────────────────────────────────────────────────────────────────────────────┤\n",
       "│ 5.117 │ ' but it was theirs. They hugged each other and\u001b[1;4;32m cried\u001b[0m. They wished they had never seen the big and' │\n",
       "└───────┴─────────────────────────────────────────────────────────────────────────────────────────────────────┘\n"
      ]
     },
     "metadata": {},
     "output_type": "display_data"
    },
    {
     "name": "stdout",
     "output_type": "stream",
     "text": [
      "Autointerp explanation:   instances of people crying\n",
      "\n",
      "┌─────────────────┬─────────┬──────────────┬─────────┐\n",
      "│   Bottom tokens │ Value   │   Top tokens │ Value   │\n",
      "├─────────────────┼─────────┼──────────────┼─────────┤\n",
      "│      ' wrestle' │ -0.098  │   ' herself' │ +0.109  │\n",
      "│         ' cycl' │ -0.095  │  ' bitterly' │ +0.108  │\n",
      "│          'ased' │ -0.095  │   ' because' │ +0.106  │\n",
      "│         ' span' │ -0.091  │   ' himself' │ +0.105  │\n",
      "│        ' overt' │ -0.090  │     ' until' │ +0.101  │\n",
      "│        'earned' │ -0.087  │       ' out' │ +0.100  │\n",
      "│ ' conservation' │ -0.086  │         ' a' │ +0.098  │\n",
      "│         ' Fasc' │ -0.084  │       ' all' │ +0.098  │\n",
      "│ ' demonstrates' │ -0.084  │       ' for' │ +0.097  │\n",
      "│      ' dispute' │ -0.084  │    ' loudly' │ +0.097  │\n",
      "└─────────────────┴─────────┴──────────────┴─────────┘\n"
     ]
    }
   ],
   "source": [
    "# Display dashboard with a prompt\n",
    "while(1):\n",
    "    prompt = input(\"Enter a prompt: \")\n",
    "    if prompt.lower() == \"exit()\":\n",
    "        break\n",
    "    display_dashboard(loaded_model, loaded_sae, loaed_act_store, loaded_proj, prompt)"
   ]
  }
 ],
 "metadata": {
  "kernelspec": {
   "display_name": "Python 3",
   "language": "python",
   "name": "python3"
  },
  "language_info": {
   "codemirror_mode": {
    "name": "ipython",
    "version": 3
   },
   "file_extension": ".py",
   "mimetype": "text/x-python",
   "name": "python",
   "nbconvert_exporter": "python",
   "pygments_lexer": "ipython3",
   "version": "3.11.5"
  }
 },
 "nbformat": 4,
 "nbformat_minor": 5
}
