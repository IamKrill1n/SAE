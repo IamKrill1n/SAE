{
 "cells": [
  {
   "cell_type": "code",
   "execution_count": 1,
   "id": "bc2bbe63",
   "metadata": {},
   "outputs": [],
   "source": [
    "from visualize import *"
   ]
  },
  {
   "cell_type": "code",
   "execution_count": 2,
   "id": "15ac929d",
   "metadata": {},
   "outputs": [],
   "source": [
    "model_name = \"gpt2-small\"\n",
    "sae_id = \"blocks.7.hook_mlp_out\""
   ]
  },
  {
   "cell_type": "code",
   "execution_count": 2,
   "id": "de33a8a1",
   "metadata": {},
   "outputs": [],
   "source": [
    "model_name = \"tiny-stories-1L-21M\"\n",
    "sae_id = \"sae_ex32\""
   ]
  },
  {
   "cell_type": "code",
   "execution_count": null,
   "id": "64e8b20a",
   "metadata": {},
   "outputs": [],
   "source": [
    "# Some prompts to test\n",
    "# He loves ice cream but he's scared to eat it in the morning.\n",
    "# Once upon a time"
   ]
  },
  {
   "cell_type": "code",
   "execution_count": 3,
   "id": "6ecb414d",
   "metadata": {},
   "outputs": [
    {
     "name": "stdout",
     "output_type": "stream",
     "text": [
      "Loaded pretrained model tiny-stories-1L-21M into HookedTransformer\n"
     ]
    }
   ],
   "source": [
    "loaded_model, loaded_sae, loaed_act_store, loaded_proj = load_stuffs(model_name, sae_id)"
   ]
  },
  {
   "cell_type": "code",
   "execution_count": null,
   "id": "20fc7d55",
   "metadata": {},
   "outputs": [
    {
     "name": "stdout",
     "output_type": "stream",
     "text": [
      "Tokenized prompt:\n",
      "+---------------+------+------+---+------+\n",
      "|       0       |  1   |  2   | 3 |  4   |\n",
      "+---------------+------+------+---+------+\n",
      "| <|endoftext|> | Once | upon | a | time |\n",
      "+---------------+------+------+---+------+\n",
      "\n",
      "Finding features activated for token  time\n",
      "Latent index:  3347\n"
     ]
    },
    {
     "name": "stderr",
     "output_type": "stream",
     "text": [
      "Computing activations for max activating examples: 100%|██████████| 100/100 [00:43<00:00,  2.32it/s]\n"
     ]
    },
    {
     "data": {
      "text/html": [
       "<pre style=\"white-space:pre;overflow-x:auto;line-height:normal;font-family:Menlo,'DejaVu Sans Mono',consolas,'Courier New',monospace\"><span style=\"font-style: italic\">                                              Max Activating Examples                                              </span>\n",
       "┏━━━━━━━┳━━━━━━━━━━━━━━━━━━━━━━━━━━━━━━━━━━━━━━━━━━━━━━━━━━━━━━━━━━━━━━━━━━━━━━━━━━━━━━━━━━━━━━━━━━━━━━━━━━━━━━━━━┓\n",
       "┃<span style=\"font-weight: bold\"> Act   </span>┃<span style=\"font-weight: bold\"> Sequence                                                                                                </span>┃\n",
       "┡━━━━━━━╇━━━━━━━━━━━━━━━━━━━━━━━━━━━━━━━━━━━━━━━━━━━━━━━━━━━━━━━━━━━━━━━━━━━━━━━━━━━━━━━━━━━━━━━━━━━━━━━━━━━━━━━━━┩\n",
       "│ 2.453 │ ' have something new to taste.&lt;|endoftext|&gt;Once upon a<span style=\"color: #008000; text-decoration-color: #008000; font-weight: bold; text-decoration: underline\"> time</span> there was a little girl named June. She     │\n",
       "│       │ was'                                                                                                    │\n",
       "├───────┼─────────────────────────────────────────────────────────────────────────────────────────────────────────┤\n",
       "│ 1.422 │ ' made lots of new friends!&lt;|endoftext|&gt;Once upon a<span style=\"color: #008000; text-decoration-color: #008000; font-weight: bold; text-decoration: underline\"> time</span>, there was a bird who loved to fly.'           │\n",
       "├───────┼─────────────────────────────────────────────────────────────────────────────────────────────────────────┤\n",
       "│ 1.028 │ ' big smile on her face.&lt;|endoftext|&gt;Once upon a<span style=\"color: #008000; text-decoration-color: #008000; font-weight: bold; text-decoration: underline\"> time</span> there were two young friends, a fox and a'        │\n",
       "├───────┼─────────────────────────────────────────────────────────────────────────────────────────────────────────┤\n",
       "│ 0.802 │ ' if she tried her best.&lt;|endoftext|&gt;Once upon a<span style=\"color: #008000; text-decoration-color: #008000; font-weight: bold; text-decoration: underline\"> time</span>, there was a little bunny named Benny. Benny'     │\n",
       "├───────┼─────────────────────────────────────────────────────────────────────────────────────────────────────────┤\n",
       "│ 0.590 │ ' brave driver. The end.&lt;|endoftext|&gt;Once upon a<span style=\"color: #008000; text-decoration-color: #008000; font-weight: bold; text-decoration: underline\"> time</span> there was a boy named Sam. He was hungry'         │\n",
       "├───────┼─────────────────────────────────────────────────────────────────────────────────────────────────────────┤\n",
       "│ 0.554 │ ', just like her mom.&lt;|endoftext|&gt;Once upon a<span style=\"color: #008000; text-decoration-color: #008000; font-weight: bold; text-decoration: underline\"> time</span>, there was a little girl named Jane. She'            │\n",
       "├───────┼─────────────────────────────────────────────────────────────────────────────────────────────────────────┤\n",
       "│ 0.500 │ ' people do not share back.&lt;|endoftext|&gt;Once upon a<span style=\"color: #008000; text-decoration-color: #008000; font-weight: bold; text-decoration: underline\"> time</span>, a big alligator lived in a thick green'       │\n",
       "├───────┼─────────────────────────────────────────────────────────────────────────────────────────────────────────┤\n",
       "│ 0.405 │ ' him, no matter what.&lt;|endoftext|&gt;Once upon a<span style=\"color: #008000; text-decoration-color: #008000; font-weight: bold; text-decoration: underline\"> time</span> there was a crane named Frank. Frank wanted to'     │\n",
       "├───────┼─────────────────────────────────────────────────────────────────────────────────────────────────────────┤\n",
       "│ 0.342 │ ' a gentle and kind heart.&lt;|endoftext|&gt;Once upon a<span style=\"color: #008000; text-decoration-color: #008000; font-weight: bold; text-decoration: underline\"> time</span> there was a hoop. Every day it got messy'       │\n",
       "├───────┼─────────────────────────────────────────────────────────────────────────────────────────────────────────┤\n",
       "│ 0.083 │ ' she had ever been on!&lt;|endoftext|&gt;Once upon a<span style=\"color: #008000; text-decoration-color: #008000; font-weight: bold; text-decoration: underline\"> time</span>, there was a bear. His name was Buddy'             │\n",
       "├───────┼─────────────────────────────────────────────────────────────────────────────────────────────────────────┤\n",
       "│ 0.000 │ ' together all the time. And Timmy never forgot<span style=\"color: #008000; text-decoration-color: #008000; font-weight: bold; text-decoration: underline\"> the</span> day the charming crab helped him balance on the     │\n",
       "│       │ rock'                                                                                                   │\n",
       "├───────┼─────────────────────────────────────────────────────────────────────────────────────────────────────────┤\n",
       "│ 0.000 │ ' day the charming crab helped him balance on the rock<span style=\"color: #008000; text-decoration-color: #008000; font-weight: bold; text-decoration: underline\">.</span>&lt;|endoftext|&gt;Tom and Mia were playing in the     │\n",
       "│       │ park.'                                                                                                  │\n",
       "├───────┼─────────────────────────────────────────────────────────────────────────────────────────────────────────┤\n",
       "│ 0.000 │ '&lt;|endoftext|&gt;Tom and Mia were playing in the park.<span style=\"color: #008000; text-decoration-color: #008000; font-weight: bold; text-decoration: underline\"> They</span> saw a big cross made of wood. It was'          │\n",
       "├───────┼─────────────────────────────────────────────────────────────────────────────────────────────────────────┤\n",
       "│ 0.000 │ ' saw a big cross made of wood. It was<span style=\"color: #008000; text-decoration-color: #008000; font-weight: bold; text-decoration: underline\"> near</span> a church. Tom said, \"What is that'                          │\n",
       "├───────┼─────────────────────────────────────────────────────────────────────────────────────────────────────────┤\n",
       "│ 0.000 │ ' a church. Tom said, \"What is that<span style=\"color: #008000; text-decoration-color: #008000; font-weight: bold; text-decoration: underline\"> cross</span> for?\"↵↵Mia said, \"I'                                          │\n",
       "└───────┴─────────────────────────────────────────────────────────────────────────────────────────────────────────┘\n",
       "</pre>\n"
      ],
      "text/plain": [
       "\u001b[3m                                              Max Activating Examples                                              \u001b[0m\n",
       "┏━━━━━━━┳━━━━━━━━━━━━━━━━━━━━━━━━━━━━━━━━━━━━━━━━━━━━━━━━━━━━━━━━━━━━━━━━━━━━━━━━━━━━━━━━━━━━━━━━━━━━━━━━━━━━━━━━━┓\n",
       "┃\u001b[1m \u001b[0m\u001b[1mAct  \u001b[0m\u001b[1m \u001b[0m┃\u001b[1m \u001b[0m\u001b[1mSequence                                                                                               \u001b[0m\u001b[1m \u001b[0m┃\n",
       "┡━━━━━━━╇━━━━━━━━━━━━━━━━━━━━━━━━━━━━━━━━━━━━━━━━━━━━━━━━━━━━━━━━━━━━━━━━━━━━━━━━━━━━━━━━━━━━━━━━━━━━━━━━━━━━━━━━━┩\n",
       "│ 2.453 │ ' have something new to taste.<|endoftext|>Once upon a\u001b[1;4;32m time\u001b[0m there was a little girl named June. She     │\n",
       "│       │ was'                                                                                                    │\n",
       "├───────┼─────────────────────────────────────────────────────────────────────────────────────────────────────────┤\n",
       "│ 1.422 │ ' made lots of new friends!<|endoftext|>Once upon a\u001b[1;4;32m time\u001b[0m, there was a bird who loved to fly.'           │\n",
       "├───────┼─────────────────────────────────────────────────────────────────────────────────────────────────────────┤\n",
       "│ 1.028 │ ' big smile on her face.<|endoftext|>Once upon a\u001b[1;4;32m time\u001b[0m there were two young friends, a fox and a'        │\n",
       "├───────┼─────────────────────────────────────────────────────────────────────────────────────────────────────────┤\n",
       "│ 0.802 │ ' if she tried her best.<|endoftext|>Once upon a\u001b[1;4;32m time\u001b[0m, there was a little bunny named Benny. Benny'     │\n",
       "├───────┼─────────────────────────────────────────────────────────────────────────────────────────────────────────┤\n",
       "│ 0.590 │ ' brave driver. The end.<|endoftext|>Once upon a\u001b[1;4;32m time\u001b[0m there was a boy named Sam. He was hungry'         │\n",
       "├───────┼─────────────────────────────────────────────────────────────────────────────────────────────────────────┤\n",
       "│ 0.554 │ ', just like her mom.<|endoftext|>Once upon a\u001b[1;4;32m time\u001b[0m, there was a little girl named Jane. She'            │\n",
       "├───────┼─────────────────────────────────────────────────────────────────────────────────────────────────────────┤\n",
       "│ 0.500 │ ' people do not share back.<|endoftext|>Once upon a\u001b[1;4;32m time\u001b[0m, a big alligator lived in a thick green'       │\n",
       "├───────┼─────────────────────────────────────────────────────────────────────────────────────────────────────────┤\n",
       "│ 0.405 │ ' him, no matter what.<|endoftext|>Once upon a\u001b[1;4;32m time\u001b[0m there was a crane named Frank. Frank wanted to'     │\n",
       "├───────┼─────────────────────────────────────────────────────────────────────────────────────────────────────────┤\n",
       "│ 0.342 │ ' a gentle and kind heart.<|endoftext|>Once upon a\u001b[1;4;32m time\u001b[0m there was a hoop. Every day it got messy'       │\n",
       "├───────┼─────────────────────────────────────────────────────────────────────────────────────────────────────────┤\n",
       "│ 0.083 │ ' she had ever been on!<|endoftext|>Once upon a\u001b[1;4;32m time\u001b[0m, there was a bear. His name was Buddy'             │\n",
       "├───────┼─────────────────────────────────────────────────────────────────────────────────────────────────────────┤\n",
       "│ 0.000 │ ' together all the time. And Timmy never forgot\u001b[1;4;32m the\u001b[0m day the charming crab helped him balance on the     │\n",
       "│       │ rock'                                                                                                   │\n",
       "├───────┼─────────────────────────────────────────────────────────────────────────────────────────────────────────┤\n",
       "│ 0.000 │ ' day the charming crab helped him balance on the rock\u001b[1;4;32m.\u001b[0m<|endoftext|>Tom and Mia were playing in the     │\n",
       "│       │ park.'                                                                                                  │\n",
       "├───────┼─────────────────────────────────────────────────────────────────────────────────────────────────────────┤\n",
       "│ 0.000 │ '<|endoftext|>Tom and Mia were playing in the park.\u001b[1;4;32m They\u001b[0m saw a big cross made of wood. It was'          │\n",
       "├───────┼─────────────────────────────────────────────────────────────────────────────────────────────────────────┤\n",
       "│ 0.000 │ ' saw a big cross made of wood. It was\u001b[1;4;32m near\u001b[0m a church. Tom said, \"What is that'                          │\n",
       "├───────┼─────────────────────────────────────────────────────────────────────────────────────────────────────────┤\n",
       "│ 0.000 │ ' a church. Tom said, \"What is that\u001b[1;4;32m cross\u001b[0m for?\"↵↵Mia said, \"I'                                          │\n",
       "└───────┴─────────────────────────────────────────────────────────────────────────────────────────────────────────┘\n"
      ]
     },
     "metadata": {},
     "output_type": "display_data"
    },
    {
     "name": "stdout",
     "output_type": "stream",
     "text": [
      "Autointerp explanation:   story introductions including \"once upon a time\" or similar introductory words like \"the\" \"they\" \"near\" \"cross\" followed by punctuation.\n",
      "\n",
      "┌─────────────────┬─────────┬──────────────┬─────────┐\n",
      "│   Bottom tokens │ Value   │   Top tokens │ Value   │\n",
      "├─────────────────┼─────────┼──────────────┼─────────┤\n",
      "│         'Still' │ -0.091  │     ' there' │ +0.118  │\n",
      "│    'Especially' │ -0.091  │          ',' │ +0.113  │\n",
      "│          'Plus' │ -0.088  │       ' ago' │ +0.105  │\n",
      "│    ' shortened' │ -0.086  │     ' lived' │ +0.094  │\n",
      "│   ' accurately' │ -0.086  │       ' was' │ +0.088  │\n",
      "│ ' breakthrough' │ -0.086  │      ' goes' │ +0.083  │\n",
      "│   ' attachment' │ -0.086  │   ' between' │ +0.083  │\n",
      "│         ' pace' │ -0.085  │      ' upon' │ +0.082  │\n",
      "│       ' rights' │ -0.085  │     ' owned' │ +0.077  │\n",
      "│ ' introduction' │ -0.084  │  ' searches' │ +0.077  │\n",
      "└─────────────────┴─────────┴──────────────┴─────────┘\n",
      "Latent index:  8589\n"
     ]
    },
    {
     "name": "stderr",
     "output_type": "stream",
     "text": [
      "Computing activations for max activating examples: 100%|██████████| 100/100 [00:36<00:00,  2.76it/s]\n"
     ]
    },
    {
     "data": {
      "text/html": [
       "<pre style=\"white-space:pre;overflow-x:auto;line-height:normal;font-family:Menlo,'DejaVu Sans Mono',consolas,'Courier New',monospace\"><span style=\"font-style: italic\">                                              Max Activating Examples                                              </span>\n",
       "┏━━━━━━━━┳━━━━━━━━━━━━━━━━━━━━━━━━━━━━━━━━━━━━━━━━━━━━━━━━━━━━━━━━━━━━━━━━━━━━━━━━━━━━━━━━━━━━━━━━━━━━━━━━━━━━━━━━┓\n",
       "┃<span style=\"font-weight: bold\"> Act    </span>┃<span style=\"font-weight: bold\"> Sequence                                                                                               </span>┃\n",
       "┡━━━━━━━━╇━━━━━━━━━━━━━━━━━━━━━━━━━━━━━━━━━━━━━━━━━━━━━━━━━━━━━━━━━━━━━━━━━━━━━━━━━━━━━━━━━━━━━━━━━━━━━━━━━━━━━━━━┩\n",
       "│ 13.321 │ ' was the best day ever.&lt;|endoftext|&gt;Once upon a<span style=\"color: #008000; text-decoration-color: #008000; font-weight: bold; text-decoration: underline\"> time</span>, there was an eager mole who loved to explore'   │\n",
       "├────────┼────────────────────────────────────────────────────────────────────────────────────────────────────────┤\n",
       "│ 13.163 │ ' made it happy, too.&lt;|endoftext|&gt;Once upon a<span style=\"color: #008000; text-decoration-color: #008000; font-weight: bold; text-decoration: underline\"> time</span>, there was a fancy lily. Her pet'                   │\n",
       "├────────┼────────────────────────────────────────────────────────────────────────────────────────────────────────┤\n",
       "│ 13.136 │ ' on the delicious celery.&lt;|endoftext|&gt;Once upon a<span style=\"color: #008000; text-decoration-color: #008000; font-weight: bold; text-decoration: underline\"> time</span> there was a puppy named Max. He was so'        │\n",
       "├────────┼────────────────────────────────────────────────────────────────────────────────────────────────────────┤\n",
       "│ 13.017 │ ' so proud of his work!&lt;|endoftext|&gt;Once upon a<span style=\"color: #008000; text-decoration-color: #008000; font-weight: bold; text-decoration: underline\"> time</span>, there were two friends, a frog and a'            │\n",
       "├────────┼────────────────────────────────────────────────────────────────────────────────────────────────────────┤\n",
       "│ 12.979 │ ' it to show up again.&lt;|endoftext|&gt;Once upon a<span style=\"color: #008000; text-decoration-color: #008000; font-weight: bold; text-decoration: underline\"> time</span>, there was a little girl named Poppy.'             │\n",
       "├────────┼────────────────────────────────────────────────────────────────────────────────────────────────────────┤\n",
       "│ 12.927 │ ' math skills in her garden.&lt;|endoftext|&gt;Once upon a<span style=\"color: #008000; text-decoration-color: #008000; font-weight: bold; text-decoration: underline\"> time</span> there were two friends, Bob and Sarah. They' │\n",
       "├────────┼────────────────────────────────────────────────────────────────────────────────────────────────────────┤\n",
       "│ 12.909 │ ' best thing in the garden!&lt;|endoftext|&gt;Once upon a<span style=\"color: #008000; text-decoration-color: #008000; font-weight: bold; text-decoration: underline\"> time</span> there was a big ball. The ball liked to'      │\n",
       "├────────┼────────────────────────────────────────────────────────────────────────────────────────────────────────┤\n",
       "│ 12.834 │ ' more careful in her garden.&lt;|endoftext|&gt;Once upon a<span style=\"color: #008000; text-decoration-color: #008000; font-weight: bold; text-decoration: underline\"> time</span>, there was a girl named Amy. She had'       │\n",
       "├────────┼────────────────────────────────────────────────────────────────────────────────────────────────────────┤\n",
       "│ 12.757 │ ' best day of the year!&lt;|endoftext|&gt;Once upon a<span style=\"color: #008000; text-decoration-color: #008000; font-weight: bold; text-decoration: underline\"> time</span> there was a little girl. One morning she woke'    │\n",
       "├────────┼────────────────────────────────────────────────────────────────────────────────────────────────────────┤\n",
       "│ 12.716 │ ' of fun with her mom.&lt;|endoftext|&gt;Once upon a<span style=\"color: #008000; text-decoration-color: #008000; font-weight: bold; text-decoration: underline\"> time</span> there lived a girl. She was very modest and'       │\n",
       "├────────┼────────────────────────────────────────────────────────────────────────────────────────────────────────┤\n",
       "│ 12.581 │ ' beautiful with only a brick.&lt;|endoftext|&gt;Once upon a<span style=\"color: #008000; text-decoration-color: #008000; font-weight: bold; text-decoration: underline\"> time</span>, there was a couple who were very          │\n",
       "│        │ adventurous.'                                                                                          │\n",
       "├────────┼────────────────────────────────────────────────────────────────────────────────────────────────────────┤\n",
       "│ 12.547 │ ' It was a wonderful time!&lt;|endoftext|&gt;Once upon a<span style=\"color: #008000; text-decoration-color: #008000; font-weight: bold; text-decoration: underline\"> time</span>, there was a girl who loved to explore the'    │\n",
       "├────────┼────────────────────────────────────────────────────────────────────────────────────────────────────────┤\n",
       "│ 12.530 │ ' the light stayed with her.&lt;|endoftext|&gt;Once upon a<span style=\"color: #008000; text-decoration-color: #008000; font-weight: bold; text-decoration: underline\"> time</span> there was a big monster called Spike. He     │\n",
       "│        │ was'                                                                                                   │\n",
       "├────────┼────────────────────────────────────────────────────────────────────────────────────────────────────────┤\n",
       "│ 12.491 │ ' away with a full stomach.&lt;|endoftext|&gt;Once upon a<span style=\"color: #008000; text-decoration-color: #008000; font-weight: bold; text-decoration: underline\"> time</span>, there was a wide lake. In the lake'          │\n",
       "├────────┼────────────────────────────────────────────────────────────────────────────────────────────────────────┤\n",
       "│ 12.489 │ ' sky for everyone to see.&lt;|endoftext|&gt;Once upon a<span style=\"color: #008000; text-decoration-color: #008000; font-weight: bold; text-decoration: underline\"> time</span> there was a girl called Jane. Jane was a'      │\n",
       "└────────┴────────────────────────────────────────────────────────────────────────────────────────────────────────┘\n",
       "</pre>\n"
      ],
      "text/plain": [
       "\u001b[3m                                              Max Activating Examples                                              \u001b[0m\n",
       "┏━━━━━━━━┳━━━━━━━━━━━━━━━━━━━━━━━━━━━━━━━━━━━━━━━━━━━━━━━━━━━━━━━━━━━━━━━━━━━━━━━━━━━━━━━━━━━━━━━━━━━━━━━━━━━━━━━━┓\n",
       "┃\u001b[1m \u001b[0m\u001b[1mAct   \u001b[0m\u001b[1m \u001b[0m┃\u001b[1m \u001b[0m\u001b[1mSequence                                                                                              \u001b[0m\u001b[1m \u001b[0m┃\n",
       "┡━━━━━━━━╇━━━━━━━━━━━━━━━━━━━━━━━━━━━━━━━━━━━━━━━━━━━━━━━━━━━━━━━━━━━━━━━━━━━━━━━━━━━━━━━━━━━━━━━━━━━━━━━━━━━━━━━━┩\n",
       "│ 13.321 │ ' was the best day ever.<|endoftext|>Once upon a\u001b[1;4;32m time\u001b[0m, there was an eager mole who loved to explore'   │\n",
       "├────────┼────────────────────────────────────────────────────────────────────────────────────────────────────────┤\n",
       "│ 13.163 │ ' made it happy, too.<|endoftext|>Once upon a\u001b[1;4;32m time\u001b[0m, there was a fancy lily. Her pet'                   │\n",
       "├────────┼────────────────────────────────────────────────────────────────────────────────────────────────────────┤\n",
       "│ 13.136 │ ' on the delicious celery.<|endoftext|>Once upon a\u001b[1;4;32m time\u001b[0m there was a puppy named Max. He was so'        │\n",
       "├────────┼────────────────────────────────────────────────────────────────────────────────────────────────────────┤\n",
       "│ 13.017 │ ' so proud of his work!<|endoftext|>Once upon a\u001b[1;4;32m time\u001b[0m, there were two friends, a frog and a'            │\n",
       "├────────┼────────────────────────────────────────────────────────────────────────────────────────────────────────┤\n",
       "│ 12.979 │ ' it to show up again.<|endoftext|>Once upon a\u001b[1;4;32m time\u001b[0m, there was a little girl named Poppy.'             │\n",
       "├────────┼────────────────────────────────────────────────────────────────────────────────────────────────────────┤\n",
       "│ 12.927 │ ' math skills in her garden.<|endoftext|>Once upon a\u001b[1;4;32m time\u001b[0m there were two friends, Bob and Sarah. They' │\n",
       "├────────┼────────────────────────────────────────────────────────────────────────────────────────────────────────┤\n",
       "│ 12.909 │ ' best thing in the garden!<|endoftext|>Once upon a\u001b[1;4;32m time\u001b[0m there was a big ball. The ball liked to'      │\n",
       "├────────┼────────────────────────────────────────────────────────────────────────────────────────────────────────┤\n",
       "│ 12.834 │ ' more careful in her garden.<|endoftext|>Once upon a\u001b[1;4;32m time\u001b[0m, there was a girl named Amy. She had'       │\n",
       "├────────┼────────────────────────────────────────────────────────────────────────────────────────────────────────┤\n",
       "│ 12.757 │ ' best day of the year!<|endoftext|>Once upon a\u001b[1;4;32m time\u001b[0m there was a little girl. One morning she woke'    │\n",
       "├────────┼────────────────────────────────────────────────────────────────────────────────────────────────────────┤\n",
       "│ 12.716 │ ' of fun with her mom.<|endoftext|>Once upon a\u001b[1;4;32m time\u001b[0m there lived a girl. She was very modest and'       │\n",
       "├────────┼────────────────────────────────────────────────────────────────────────────────────────────────────────┤\n",
       "│ 12.581 │ ' beautiful with only a brick.<|endoftext|>Once upon a\u001b[1;4;32m time\u001b[0m, there was a couple who were very          │\n",
       "│        │ adventurous.'                                                                                          │\n",
       "├────────┼────────────────────────────────────────────────────────────────────────────────────────────────────────┤\n",
       "│ 12.547 │ ' It was a wonderful time!<|endoftext|>Once upon a\u001b[1;4;32m time\u001b[0m, there was a girl who loved to explore the'    │\n",
       "├────────┼────────────────────────────────────────────────────────────────────────────────────────────────────────┤\n",
       "│ 12.530 │ ' the light stayed with her.<|endoftext|>Once upon a\u001b[1;4;32m time\u001b[0m there was a big monster called Spike. He     │\n",
       "│        │ was'                                                                                                   │\n",
       "├────────┼────────────────────────────────────────────────────────────────────────────────────────────────────────┤\n",
       "│ 12.491 │ ' away with a full stomach.<|endoftext|>Once upon a\u001b[1;4;32m time\u001b[0m, there was a wide lake. In the lake'          │\n",
       "├────────┼────────────────────────────────────────────────────────────────────────────────────────────────────────┤\n",
       "│ 12.489 │ ' sky for everyone to see.<|endoftext|>Once upon a\u001b[1;4;32m time\u001b[0m there was a girl called Jane. Jane was a'      │\n",
       "└────────┴────────────────────────────────────────────────────────────────────────────────────────────────────────┘\n"
      ]
     },
     "metadata": {},
     "output_type": "display_data"
    },
    {
     "name": "stdout",
     "output_type": "stream",
     "text": [
      "Autointerp explanation:   the word time when it is preceded by the phrase once upon a\n",
      "\n",
      "┌─────────────────┬─────────┬──────────────┬─────────┐\n",
      "│   Bottom tokens │ Value   │   Top tokens │ Value   │\n",
      "├─────────────────┼─────────┼──────────────┼─────────┤\n",
      "│         'agues' │ -0.031  │          ',' │ +0.030  │\n",
      "│          '\\x17' │ -0.031  │     ' there' │ +0.028  │\n",
      "│       'igrants' │ -0.031  │      ' upon' │ +0.023  │\n",
      "│            '/_' │ -0.031  │         ',\"' │ +0.019  │\n",
      "│         'Occup' │ -0.031  │   ' beneath' │ +0.018  │\n",
      "│       ' Reload' │ -0.031  │        ' in' │ +0.018  │\n",
      "│        'abetes' │ -0.031  │          '…' │ +0.018  │\n",
      "│        'orical' │ -0.031  │    ' amidst' │ +0.018  │\n",
      "│         'lehem' │ -0.031  │       ' Joe' │ +0.018  │\n",
      "│            'NE' │ -0.031  │       ' two' │ +0.017  │\n",
      "└─────────────────┴─────────┴──────────────┴─────────┘\n",
      "Latent index:  6532\n"
     ]
    },
    {
     "name": "stderr",
     "output_type": "stream",
     "text": [
      "Computing activations for max activating examples:  14%|█▍        | 14/100 [00:05<00:31,  2.69it/s]"
     ]
    }
   ],
   "source": [
    "# Display dashboard with a prompt\n",
    "while(1):\n",
    "    prompt = input(\"Enter a prompt: \") \n",
    "    if prompt.lower() == \"exit()\":\n",
    "        break\n",
    "    display_dashboard(loaded_model, loaded_sae, loaed_act_store, loaded_proj, prompt)"
   ]
  }
 ],
 "metadata": {
  "kernelspec": {
   "display_name": "Python 3",
   "language": "python",
   "name": "python3"
  },
  "language_info": {
   "codemirror_mode": {
    "name": "ipython",
    "version": 3
   },
   "file_extension": ".py",
   "mimetype": "text/x-python",
   "name": "python",
   "nbconvert_exporter": "python",
   "pygments_lexer": "ipython3",
   "version": "3.11.5"
  }
 },
 "nbformat": 4,
 "nbformat_minor": 5
}
